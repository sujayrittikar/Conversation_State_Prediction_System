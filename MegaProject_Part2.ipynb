{
  "nbformat": 4,
  "nbformat_minor": 0,
  "metadata": {
    "colab": {
      "name": "MegaProject_Part2.ipynb",
      "provenance": [],
      "collapsed_sections": []
    },
    "kernelspec": {
      "name": "python3",
      "display_name": "Python 3"
    },
    "language_info": {
      "name": "python"
    }
  },
  "cells": [
    {
      "cell_type": "code",
      "execution_count": null,
      "metadata": {
        "id": "lIDVHQligGKU"
      },
      "outputs": [],
      "source": [
        "import pandas as pd\n",
        "import numpy as np\n",
        "from gensim.models import Word2Vec"
      ]
    },
    {
      "cell_type": "code",
      "source": [
        "# # Giving an input text, in live project: recognized by the speech to text recognition\n",
        "# inputText = input()"
      ],
      "metadata": {
        "id": "caEp5IJxYPjl"
      },
      "execution_count": null,
      "outputs": []
    },
    {
      "cell_type": "code",
      "source": [
        "# Importing Conversatons dataset as a dataframe -> This can be considered as a stream in live project\n",
        "df_conversations = pd.read_excel('Data_1.xlsx')"
      ],
      "metadata": {
        "id": "fzTM5wqUijD1"
      },
      "execution_count": null,
      "outputs": []
    },
    {
      "cell_type": "code",
      "source": [
        "df_conversations['Speaker'] = [int(i) for i in df_conversations['Speaker']]"
      ],
      "metadata": {
        "id": "5SmT_X_LDb6M"
      },
      "execution_count": null,
      "outputs": []
    },
    {
      "cell_type": "code",
      "source": [
        "df_conversations.head()"
      ],
      "metadata": {
        "colab": {
          "base_uri": "https://localhost:8080/",
          "height": 206
        },
        "id": "FSrCgotuDkoQ",
        "outputId": "9d3d282e-58ae-4ba6-a565-7f639a63b5d5"
      },
      "execution_count": null,
      "outputs": [
        {
          "output_type": "execute_result",
          "data": {
            "text/plain": [
              "   Speaker                                               Text\n",
              "0        0  I can’t believe I’m sitting here next to littl...\n",
              "1        1                                     Well, you are.\n",
              "2        0  Little Lalita. That’s kind of fun to say. Litt...\n",
              "3        1                                     No, it's okay.\n",
              "4        0  You have lost so much weight! That must have b..."
            ],
            "text/html": [
              "\n",
              "  <div id=\"df-67e977e7-7444-4517-b999-7d009643e015\">\n",
              "    <div class=\"colab-df-container\">\n",
              "      <div>\n",
              "<style scoped>\n",
              "    .dataframe tbody tr th:only-of-type {\n",
              "        vertical-align: middle;\n",
              "    }\n",
              "\n",
              "    .dataframe tbody tr th {\n",
              "        vertical-align: top;\n",
              "    }\n",
              "\n",
              "    .dataframe thead th {\n",
              "        text-align: right;\n",
              "    }\n",
              "</style>\n",
              "<table border=\"1\" class=\"dataframe\">\n",
              "  <thead>\n",
              "    <tr style=\"text-align: right;\">\n",
              "      <th></th>\n",
              "      <th>Speaker</th>\n",
              "      <th>Text</th>\n",
              "    </tr>\n",
              "  </thead>\n",
              "  <tbody>\n",
              "    <tr>\n",
              "      <th>0</th>\n",
              "      <td>0</td>\n",
              "      <td>I can’t believe I’m sitting here next to littl...</td>\n",
              "    </tr>\n",
              "    <tr>\n",
              "      <th>1</th>\n",
              "      <td>1</td>\n",
              "      <td>Well, you are.</td>\n",
              "    </tr>\n",
              "    <tr>\n",
              "      <th>2</th>\n",
              "      <td>0</td>\n",
              "      <td>Little Lalita. That’s kind of fun to say. Litt...</td>\n",
              "    </tr>\n",
              "    <tr>\n",
              "      <th>3</th>\n",
              "      <td>1</td>\n",
              "      <td>No, it's okay.</td>\n",
              "    </tr>\n",
              "    <tr>\n",
              "      <th>4</th>\n",
              "      <td>0</td>\n",
              "      <td>You have lost so much weight! That must have b...</td>\n",
              "    </tr>\n",
              "  </tbody>\n",
              "</table>\n",
              "</div>\n",
              "      <button class=\"colab-df-convert\" onclick=\"convertToInteractive('df-67e977e7-7444-4517-b999-7d009643e015')\"\n",
              "              title=\"Convert this dataframe to an interactive table.\"\n",
              "              style=\"display:none;\">\n",
              "        \n",
              "  <svg xmlns=\"http://www.w3.org/2000/svg\" height=\"24px\"viewBox=\"0 0 24 24\"\n",
              "       width=\"24px\">\n",
              "    <path d=\"M0 0h24v24H0V0z\" fill=\"none\"/>\n",
              "    <path d=\"M18.56 5.44l.94 2.06.94-2.06 2.06-.94-2.06-.94-.94-2.06-.94 2.06-2.06.94zm-11 1L8.5 8.5l.94-2.06 2.06-.94-2.06-.94L8.5 2.5l-.94 2.06-2.06.94zm10 10l.94 2.06.94-2.06 2.06-.94-2.06-.94-.94-2.06-.94 2.06-2.06.94z\"/><path d=\"M17.41 7.96l-1.37-1.37c-.4-.4-.92-.59-1.43-.59-.52 0-1.04.2-1.43.59L10.3 9.45l-7.72 7.72c-.78.78-.78 2.05 0 2.83L4 21.41c.39.39.9.59 1.41.59.51 0 1.02-.2 1.41-.59l7.78-7.78 2.81-2.81c.8-.78.8-2.07 0-2.86zM5.41 20L4 18.59l7.72-7.72 1.47 1.35L5.41 20z\"/>\n",
              "  </svg>\n",
              "      </button>\n",
              "      \n",
              "  <style>\n",
              "    .colab-df-container {\n",
              "      display:flex;\n",
              "      flex-wrap:wrap;\n",
              "      gap: 12px;\n",
              "    }\n",
              "\n",
              "    .colab-df-convert {\n",
              "      background-color: #E8F0FE;\n",
              "      border: none;\n",
              "      border-radius: 50%;\n",
              "      cursor: pointer;\n",
              "      display: none;\n",
              "      fill: #1967D2;\n",
              "      height: 32px;\n",
              "      padding: 0 0 0 0;\n",
              "      width: 32px;\n",
              "    }\n",
              "\n",
              "    .colab-df-convert:hover {\n",
              "      background-color: #E2EBFA;\n",
              "      box-shadow: 0px 1px 2px rgba(60, 64, 67, 0.3), 0px 1px 3px 1px rgba(60, 64, 67, 0.15);\n",
              "      fill: #174EA6;\n",
              "    }\n",
              "\n",
              "    [theme=dark] .colab-df-convert {\n",
              "      background-color: #3B4455;\n",
              "      fill: #D2E3FC;\n",
              "    }\n",
              "\n",
              "    [theme=dark] .colab-df-convert:hover {\n",
              "      background-color: #434B5C;\n",
              "      box-shadow: 0px 1px 3px 1px rgba(0, 0, 0, 0.15);\n",
              "      filter: drop-shadow(0px 1px 2px rgba(0, 0, 0, 0.3));\n",
              "      fill: #FFFFFF;\n",
              "    }\n",
              "  </style>\n",
              "\n",
              "      <script>\n",
              "        const buttonEl =\n",
              "          document.querySelector('#df-67e977e7-7444-4517-b999-7d009643e015 button.colab-df-convert');\n",
              "        buttonEl.style.display =\n",
              "          google.colab.kernel.accessAllowed ? 'block' : 'none';\n",
              "\n",
              "        async function convertToInteractive(key) {\n",
              "          const element = document.querySelector('#df-67e977e7-7444-4517-b999-7d009643e015');\n",
              "          const dataTable =\n",
              "            await google.colab.kernel.invokeFunction('convertToInteractive',\n",
              "                                                     [key], {});\n",
              "          if (!dataTable) return;\n",
              "\n",
              "          const docLinkHtml = 'Like what you see? Visit the ' +\n",
              "            '<a target=\"_blank\" href=https://colab.research.google.com/notebooks/data_table.ipynb>data table notebook</a>'\n",
              "            + ' to learn more about interactive tables.';\n",
              "          element.innerHTML = '';\n",
              "          dataTable['output_type'] = 'display_data';\n",
              "          await google.colab.output.renderOutput(dataTable, element);\n",
              "          const docLink = document.createElement('div');\n",
              "          docLink.innerHTML = docLinkHtml;\n",
              "          element.appendChild(docLink);\n",
              "        }\n",
              "      </script>\n",
              "    </div>\n",
              "  </div>\n",
              "  "
            ]
          },
          "metadata": {},
          "execution_count": 28
        }
      ]
    },
    {
      "cell_type": "code",
      "source": [
        "import pandas as pd\n",
        "import numpy as np\n",
        "from gensim.models import Word2Vec\n",
        "class contextualSpeakerStates:\n",
        "  def __init__(self, dataset):\n",
        "    self.dataset = dataset\n",
        "    # Obtaining the Text column of the dataset as a list of all texts\n",
        "    self.listOfTexts = list(self.dataset['Text'])\n",
        "    # Creating the train data, i.e., tokenized version of the wholeText\n",
        "    self.trainData = [text.split() for text in self.listOfTexts]\n",
        "    # Building Word2Vec Model on the basis of wholeText\n",
        "    self.model = Word2Vec(self.trainData, min_count=1)\n",
        "    self.listOfSpeakerStates = list(set(list(self.dataset['Speaker'])))\n",
        "\n",
        "  def getSpeakerSpecificDialogues(self):\n",
        "    dialogues = {}\n",
        "    # Obtaining the list of existing speaker states in the Speaker column of dataframe\n",
        "    for state in self.listOfSpeakerStates:\n",
        "      dialogues[state] = [self.dataset['Text'][i] for i in range(len(self.dataset)) if self.dataset['Speaker'][i]==state]\n",
        "    # Return the mapped dictionary i.e., dialogues with key:pair as speaker:texts\n",
        "    return dialogues\n",
        "\n",
        "  def getTransitionMatrix(self, speakerSpecificDialogues):\n",
        "    aggregatedTextListBySpeakers = {}\n",
        "    \n",
        "    # Forming the aggregated Text Lists for each speaker, i.e., combining all the texts for a speaker into a single text\n",
        "    for state in self.listOfSpeakerStates:\n",
        "      temp = ' '.join(speakerSpecificDialogues[state])\n",
        "      aggregatedTextListBySpeakers[state] = temp\n",
        "\n",
        "    # Forming the transition matrix\n",
        "    transitionMatrix = []\n",
        "    for state1 in self.listOfSpeakerStates:\n",
        "      tempDistances = []\n",
        "      for state2 in self.listOfSpeakerStates:\n",
        "        # Using the Word Mover's Distance\n",
        "        tempDistances.append(self.model.wv.wmdistance(aggregatedTextListBySpeakers[state1], aggregatedTextListBySpeakers[state2]))\n",
        "      transitionMatrix.append(tempDistances)\n",
        "    \n",
        "    return transitionMatrix\n",
        "\n",
        "  def getConversationDistances(self, speakerSpecificDialogues, inputText):\n",
        "    # Obtaining the averaged vector of speaker-specific minimum distances\n",
        "\n",
        "    # distances dictionary\n",
        "    distances = {}\n",
        "\n",
        "    # Initialize empty lists\n",
        "    for state in self.listOfSpeakerStates:\n",
        "      distances[state] = []\n",
        "\n",
        "    for state in self.listOfSpeakerStates:\n",
        "      for dialogue in speakerSpecificDialogues[state]:\n",
        "        distance = self.model.wv.wmdistance(inputText, dialogue)\n",
        "        distances[state].append(distance)\n",
        "    return distances\n",
        "\n",
        "  def getAveragedDistancesVector(self, distances):\n",
        "    # Filtering out infinity and nan values to make sure our found average is correct and we don't consider the outliers\n",
        "    for state in distances.keys():\n",
        "      distances[state] = [distances[state][i] for i in range(len(distances[state])) if distances[state][i]!=np.inf and distances[state][i]!=np.nan]\n",
        "    averagedDistancesVector = [np.mean(distances[state]) for state in range(min(self.listOfSpeakerStates), max(self.listOfSpeakerStates)+1)]\n",
        "    return averagedDistancesVector\n",
        "  \n",
        "  def identifiedSpeaker(self, averagedDistancesVector):\n",
        "    return self.listOfSpeakerStates[averagedDistancesVector.index(min(averagedDistancesVector))]\n",
        "\n",
        "  def predictSpeaker(self, averagedDistancesVector, transitionMatrix):\n",
        "    obtainedDotProductVector = np.dot(averagedDistancesVector, transitionMatrix)\n",
        "    return self.listOfSpeakerStates[list(obtainedDotProductVector).index(min(list(obtainedDotProductVector)))]\n",
        "\n",
        "  def update(self, dataset):\n",
        "    self.dataset = dataset\n",
        "    # Obtaining the Text column of the dataset as a list of all texts\n",
        "    self.listOfTexts = list(self.dataset['Text'])\n",
        "    # Creating the train data, i.e., tokenized version of the wholeText\n",
        "    self.trainData = [text.split() for text in self.listOfTexts]\n",
        "    # Building Word2Vec Model on the basis of wholeText\n",
        "    self.model.build_vocab(self.trainData, update=True)\n",
        "    token_count = len(self.trainData[-1])\n",
        "    self.model.train(self.trainData, total_examples = token_count, epochs=self.model.epochs)\n",
        "    self.listOfSpeakerStates = list(set(list(self.dataset['Speaker'])))"
      ],
      "metadata": {
        "id": "o9p7LvhkYwPR"
      },
      "execution_count": null,
      "outputs": []
    },
    {
      "cell_type": "code",
      "source": [
        "contextualSpeakerStatesObject = contextualSpeakerStates(df_conversations[:2])"
      ],
      "metadata": {
        "id": "TNBYhJdfwL8m"
      },
      "execution_count": null,
      "outputs": []
    },
    {
      "cell_type": "code",
      "source": [
        "def speakerValidationAndPrediction(SpeakerDiarizationSpeakerIdentity, inputText, data):\n",
        "  contextualSpeakerStatesObject.update(data)\n",
        "  speakerSpecificDialogues = contextualSpeakerStatesObject.getSpeakerSpecificDialogues()\n",
        "  transitionMatrix = contextualSpeakerStatesObject.getTransitionMatrix(speakerSpecificDialogues)\n",
        "  distances = contextualSpeakerStatesObject.getConversationDistances(speakerSpecificDialogues, inputText)\n",
        "  averagedDistancesVector = contextualSpeakerStatesObject.getAveragedDistancesVector(distances)\n",
        "  identifiedSpeaker = contextualSpeakerStatesObject.identifiedSpeaker(averagedDistancesVector)\n",
        "  if identifiedSpeaker==SpeakerDiarizationSpeakerIdentity:\n",
        "    predictedSpeaker = contextualSpeakerStatesObject.predictSpeaker(averagedDistancesVector, transitionMatrix)\n",
        "    # Dataset Updation process\n",
        "    ###\n",
        "\n",
        "    return predictedSpeaker\n",
        "  else:\n",
        "    # Dataset Updation process\n",
        "    return -1"
      ],
      "metadata": {
        "id": "Jy42OsJRest5"
      },
      "execution_count": null,
      "outputs": []
    },
    {
      "cell_type": "code",
      "source": [
        "percentages_list = []\n",
        "ths_list = []\n",
        "predictionsPercentageList = []\n",
        "predictionsList = []\n",
        "\n",
        "for ths in range(5, len(df_conversations), 5):\n",
        "  p_list = []\n",
        "  predictions_count = 0\n",
        "  correct_predictions_count = 0\n",
        "  for i in range(3, len(df_conversations)):\n",
        "    try:\n",
        "      inputText = df_conversations.iloc[i]['Text']\n",
        "      speaker = int(df_conversations.iloc[i]['Speaker'])\n",
        "      if i<ths+1:\n",
        "        prediction = speakerValidationAndPrediction(speaker, inputText, df_conversations[:i])\n",
        "      else:\n",
        "        prediction = speakerValidationAndPrediction(speaker, inputText, df_conversations[i-ths:i])\n",
        "      # prediction = speakerValidationAndPrediction(speaker, inputText, df_conversations[:i])\n",
        "      if prediction>=0:\n",
        "        p_list.append(prediction)\n",
        "        predictions_count += 1\n",
        "        actualSpeaker = int(df_conversations.iloc[i+1]['Speaker'])\n",
        "        if prediction==actualSpeaker:\n",
        "          correct_predictions_count += 1\n",
        "    except:\n",
        "      pass\n",
        "  predictionsList.append(p_list)\n",
        "  ths_list.append(ths)\n",
        "  predictionsPercentageList.append(100*predictions_count/ths)\n",
        "  if predictions_count>0:\n",
        "    percentages_list.append(100*correct_predictions_count/predictions_count)\n",
        "  else:\n",
        "    percentages_list.append(0.0)"
      ],
      "metadata": {
        "colab": {
          "base_uri": "https://localhost:8080/"
        },
        "id": "VuLffKVr56jh",
        "outputId": "39cfb0ed-6479-4056-fa2e-8bd018f7e862"
      },
      "execution_count": null,
      "outputs": [
        {
          "output_type": "stream",
          "name": "stderr",
          "text": [
            "/usr/local/lib/python3.7/dist-packages/numpy/core/fromnumeric.py:3441: RuntimeWarning: Mean of empty slice.\n",
            "  out=out, **kwargs)\n",
            "/usr/local/lib/python3.7/dist-packages/numpy/core/_methods.py:189: RuntimeWarning: invalid value encountered in double_scalars\n",
            "  ret = ret.dtype.type(ret / rcount)\n"
          ]
        }
      ]
    },
    {
      "cell_type": "code",
      "source": [
        "import matplotlib.pyplot as plt\n",
        "fig, ax1 = plt.subplots()\n",
        "\n",
        "ax2 = ax1.twinx()\n",
        "ax1.plot(ths_list, percentages_list, 'g-')\n",
        "ax2.plot(ths_list, predictionsPercentageList, 'b-')\n",
        "\n",
        "ax1.set_xlabel('Window Size')\n",
        "ax1.set_ylabel('Prediction Accuracy', color='g')\n",
        "ax2.set_ylabel('Validation Accuracy', color='b')\n",
        "\n",
        "plt.show()"
      ],
      "metadata": {
        "colab": {
          "base_uri": "https://localhost:8080/",
          "height": 279
        },
        "id": "quNfZW7w7xYy",
        "outputId": "07ab1a0b-03d8-4edb-e367-09f9f724dd7b"
      },
      "execution_count": null,
      "outputs": [
        {
          "output_type": "display_data",
          "data": {
            "text/plain": [
              "<Figure size 432x288 with 2 Axes>"
            ],
            "image/png": "[encoded data removed]"
          },
          "metadata": {
            "needs_background": "light"
          }
        }
      ]
    },
    {
      "cell_type": "code",
      "source": [
        "list(set(df_conversations['Speaker']))"
      ],
      "metadata": {
        "colab": {
          "base_uri": "https://localhost:8080/"
        },
        "id": "1CqEtDLOX6et",
        "outputId": "ae55188c-895c-4ebc-9ee1-e65d4138ded8"
      },
      "execution_count": null,
      "outputs": [
        {
          "output_type": "execute_result",
          "data": {
            "text/plain": [
              "[0, 1, 2, 3, 4, 5]"
            ]
          },
          "metadata": {},
          "execution_count": 32
        }
      ]
    },
    {
      "cell_type": "code",
      "source": [
        "print(ths_list)\n",
        "print(percentages_list)\n",
        "print(predictionsPercentageList)"
      ],
      "metadata": {
        "colab": {
          "base_uri": "https://localhost:8080/"
        },
        "id": "4ozNUsNbCez-",
        "outputId": "b2bcdc87-2f0c-4c93-e315-cedeb3c14990"
      },
      "execution_count": null,
      "outputs": [
        {
          "output_type": "stream",
          "name": "stdout",
          "text": [
            "[5, 10, 15, 20, 25, 30, 35, 40, 45, 50, 55, 60, 65]\n",
            "[0.0, 100.0, 80.0, 66.66666666666667, 50.0, 44.44444444444444, 40.0, 36.36363636363637, 36.36363636363637, 36.36363636363637, 36.36363636363637, 36.36363636363637, 33.333333333333336]\n",
            "[0.0, 40.0, 33.333333333333336, 30.0, 32.0, 30.0, 28.571428571428573, 27.5, 24.444444444444443, 22.0, 20.0, 18.333333333333332, 18.46153846153846]\n"
          ]
        }
      ]
    },
    {
      "cell_type": "code",
      "source": [
        "print(len(df_conversations))"
      ],
      "metadata": {
        "colab": {
          "base_uri": "https://localhost:8080/"
        },
        "id": "zLTW7_1_Cty5",
        "outputId": "75eaa068-6393-4f2d-8915-1c339ef524e7"
      },
      "execution_count": null,
      "outputs": [
        {
          "output_type": "stream",
          "name": "stdout",
          "text": [
            "68\n"
          ]
        }
      ]
    }
  ]
}